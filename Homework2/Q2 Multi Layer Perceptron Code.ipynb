{
  "nbformat": 4,
  "nbformat_minor": 0,
  "metadata": {
    "colab": {
      "provenance": []
    },
    "kernelspec": {
      "name": "python3",
      "display_name": "Python 3"
    },
    "language_info": {
      "name": "python"
    }
  },
  "cells": [
    {
      "cell_type": "markdown",
      "source": [
        "## 1. Import the Libraries"
      ],
      "metadata": {
        "id": "I0FbB901K6fN"
      }
    },
    {
      "cell_type": "code",
      "execution_count": 39,
      "metadata": {
        "id": "awCgr_Kjx25j"
      },
      "outputs": [],
      "source": [
        "# keras imports for the dataset and building our neural network\n",
        "from keras.datasets import mnist\n",
        "from keras.models import Sequential\n",
        "from keras.layers import Dense, Dropout, BatchNormalization, Flatten\n",
        "from keras.utils import to_categorical\n",
        "import numpy as np\n",
        "import time\n",
        "\n",
        "# to calculate accuracy\n",
        "# from sklearn.metrics import accuracy_score"
      ]
    },
    {
      "cell_type": "markdown",
      "source": [
        "## 2. Load the MNIST dataset"
      ],
      "metadata": {
        "id": "lDgDJPQcLAI7"
      }
    },
    {
      "cell_type": "code",
      "source": [
        "# loading the dataset\n",
        "(x_train, y_train), (x_test, y_test) = mnist.load_data()"
      ],
      "metadata": {
        "id": "ffBV3g27zAbH"
      },
      "execution_count": 40,
      "outputs": []
    },
    {
      "cell_type": "markdown",
      "source": [
        "## 3. Reshape the dataset as per the dimensional needs for model training"
      ],
      "metadata": {
        "id": "lAhdoUrULE4M"
      }
    },
    {
      "cell_type": "code",
      "source": [
        "# building the input vector from the 28x28 pixels\n",
        "print(x_train.shape)\n",
        "x_train = x_train.reshape(x_train.shape[0], x_train.shape[1]*x_train.shape[2]).astype('float32')\n",
        "x_test = x_test.reshape(x_test.shape[0], x_test.shape[1]*x_test.shape[2]).astype('float32')\n",
        "x_train.shape"
      ],
      "metadata": {
        "id": "Uw6-RrxPzGFS",
        "colab": {
          "base_uri": "https://localhost:8080/"
        },
        "outputId": "8762d470-06b3-4266-cad1-3c034b6db710"
      },
      "execution_count": 41,
      "outputs": [
        {
          "output_type": "stream",
          "name": "stdout",
          "text": [
            "(60000, 28, 28)\n"
          ]
        },
        {
          "output_type": "execute_result",
          "data": {
            "text/plain": [
              "(60000, 784)"
            ]
          },
          "metadata": {},
          "execution_count": 41
        }
      ]
    },
    {
      "cell_type": "markdown",
      "source": [
        "## 4. Normalize the data in dataset to the range of 0 to 1"
      ],
      "metadata": {
        "id": "QFdWrm91LUwB"
      }
    },
    {
      "cell_type": "code",
      "source": [
        "# normalizing the data to help with the training\n",
        "x_train = x_train/255.0\n",
        "x_test = x_test/255.0"
      ],
      "metadata": {
        "id": "kaUrVkSfz8LJ"
      },
      "execution_count": 42,
      "outputs": []
    },
    {
      "cell_type": "markdown",
      "source": [
        "## 5. One-Hot Encoding as the output is categorical"
      ],
      "metadata": {
        "id": "5dRc5q9GL0W8"
      }
    },
    {
      "cell_type": "code",
      "source": [
        "# one-hot encoding using keras' numpy-related utilities\n",
        "n_classes = 10\n",
        "print(\"Shape before one-hot encoding: \", y_train.shape)\n",
        "y_train = to_categorical(y_train, n_classes)\n",
        "y_test = to_categorical(y_test, n_classes)\n",
        "print(\"Shape after one-hot encoding: \", y_train.shape)"
      ],
      "metadata": {
        "colab": {
          "base_uri": "https://localhost:8080/"
        },
        "id": "mk6k-FrQ0Sp5",
        "outputId": "32696b8c-643c-453e-fe25-432c302977fe"
      },
      "execution_count": 43,
      "outputs": [
        {
          "output_type": "stream",
          "name": "stdout",
          "text": [
            "Shape before one-hot encoding:  (60000,)\n",
            "Shape after one-hot encoding:  (60000, 10)\n"
          ]
        }
      ]
    },
    {
      "cell_type": "markdown",
      "source": [
        "## 6. Initializing the parameters for the model before training"
      ],
      "metadata": {
        "id": "D5gFA9B8L3pb"
      }
    },
    {
      "cell_type": "code",
      "source": [
        "#initialize the parameters\n",
        "output_dim = 10\n",
        "input_dim = x_train.shape[1]\n",
        "\n",
        "batch_size = 128\n",
        "nb_epoch = 10"
      ],
      "metadata": {
        "id": "ZVcZON7ep_uh"
      },
      "execution_count": 44,
      "outputs": []
    },
    {
      "cell_type": "markdown",
      "source": [
        "## 7. Defining/Building the Model"
      ],
      "metadata": {
        "id": "8Vj1w2s-MA1H"
      }
    },
    {
      "cell_type": "code",
      "source": [
        "# Build the model with a linear stack of layers using the sequential model\n",
        "model = Sequential()\n",
        "model.add(Flatten( input_shape=(input_dim,)))\n",
        "model.add(Dense(100, activation='relu'))\n",
        "model.add(Dense(output_dim, activation='softmax'))"
      ],
      "metadata": {
        "id": "PinB-7yu1kB8"
      },
      "execution_count": 45,
      "outputs": []
    },
    {
      "cell_type": "markdown",
      "source": [
        "## 8. Compiling and Training the MLP model with training dataset and Calculating the accuracy with validation and test dataset"
      ],
      "metadata": {
        "id": "HJBo1EmHMFFH"
      }
    },
    {
      "cell_type": "code",
      "source": [
        "model.summary()\n",
        "model.compile(optimizer='adam',\n",
        "              loss='categorical_crossentropy',\n",
        "              metrics=['accuracy'])\n",
        "model.fit(x_train, y_train, batch_size=batch_size, epochs=nb_epoch, verbose=1, validation_data=(x_test, y_test))\n",
        "# Evaluate the model\n",
        "test_loss, test_acc = model.evaluate(x_test, y_test, verbose=2)\n",
        "print(f\"Test accuracy: {test_acc} and Loss: {test_loss}\")"
      ],
      "metadata": {
        "colab": {
          "base_uri": "https://localhost:8080/"
        },
        "id": "Jbs385VLIGZt",
        "outputId": "e9f29138-eea4-4e5d-f6e8-b1669e4674c8"
      },
      "execution_count": 29,
      "outputs": [
        {
          "output_type": "stream",
          "name": "stdout",
          "text": [
            "Model: \"sequential_1\"\n",
            "_________________________________________________________________\n",
            " Layer (type)                Output Shape              Param #   \n",
            "=================================================================\n",
            " flatten_1 (Flatten)         (None, 784)               0         \n",
            "                                                                 \n",
            " dense_2 (Dense)             (None, 100)               78500     \n",
            "                                                                 \n",
            " dense_3 (Dense)             (None, 10)                1010      \n",
            "                                                                 \n",
            "=================================================================\n",
            "Total params: 79510 (310.59 KB)\n",
            "Trainable params: 79510 (310.59 KB)\n",
            "Non-trainable params: 0 (0.00 Byte)\n",
            "_________________________________________________________________\n",
            "Epoch 1/10\n",
            "469/469 [==============================] - 3s 5ms/step - loss: 0.3748 - accuracy: 0.8974 - val_loss: 0.2074 - val_accuracy: 0.9391\n",
            "Epoch 2/10\n",
            "469/469 [==============================] - 2s 5ms/step - loss: 0.1799 - accuracy: 0.9480 - val_loss: 0.1506 - val_accuracy: 0.9557\n",
            "Epoch 3/10\n",
            "469/469 [==============================] - 3s 6ms/step - loss: 0.1336 - accuracy: 0.9615 - val_loss: 0.1239 - val_accuracy: 0.9628\n",
            "Epoch 4/10\n",
            "469/469 [==============================] - 3s 7ms/step - loss: 0.1060 - accuracy: 0.9689 - val_loss: 0.1110 - val_accuracy: 0.9666\n",
            "Epoch 5/10\n",
            "469/469 [==============================] - 3s 5ms/step - loss: 0.0873 - accuracy: 0.9747 - val_loss: 0.0950 - val_accuracy: 0.9731\n",
            "Epoch 6/10\n",
            "469/469 [==============================] - 2s 5ms/step - loss: 0.0734 - accuracy: 0.9783 - val_loss: 0.0877 - val_accuracy: 0.9745\n",
            "Epoch 7/10\n",
            "469/469 [==============================] - 2s 5ms/step - loss: 0.0627 - accuracy: 0.9823 - val_loss: 0.0836 - val_accuracy: 0.9755\n",
            "Epoch 8/10\n",
            "469/469 [==============================] - 3s 7ms/step - loss: 0.0538 - accuracy: 0.9847 - val_loss: 0.0784 - val_accuracy: 0.9762\n",
            "Epoch 9/10\n",
            "469/469 [==============================] - 3s 6ms/step - loss: 0.0464 - accuracy: 0.9866 - val_loss: 0.0765 - val_accuracy: 0.9769\n",
            "Epoch 10/10\n",
            "469/469 [==============================] - 3s 6ms/step - loss: 0.0395 - accuracy: 0.9890 - val_loss: 0.0744 - val_accuracy: 0.9772\n",
            "313/313 - 1s - loss: 0.0744 - accuracy: 0.9772 - 511ms/epoch - 2ms/step\n",
            "Test accuracy: 0.9771999716758728 and Loss: 0.07442222535610199\n"
          ]
        }
      ]
    },
    {
      "cell_type": "markdown",
      "source": [
        "## Repeating 7th and 8th step of MLP model with dropout"
      ],
      "metadata": {
        "id": "loIC7_LDMl1T"
      }
    },
    {
      "cell_type": "code",
      "source": [
        "# Build the model with a linear stack of layers using the sequential model\n",
        "model = Sequential()\n",
        "\n",
        "model.add(Flatten(input_shape=(input_dim,)))\n",
        "\n",
        "model.add(Dropout(0.5))\n",
        "model.add(Dense(100, activation='relu'))\n",
        "model.add(Dense(output_dim, activation='softmax'))\n"
      ],
      "metadata": {
        "id": "6FcLUtoBLNIo"
      },
      "execution_count": 35,
      "outputs": []
    },
    {
      "cell_type": "code",
      "source": [
        "model.summary()\n",
        "model.compile(optimizer='adam',\n",
        "              loss='categorical_crossentropy',\n",
        "              metrics=['accuracy'])\n",
        "model.fit(x_train, y_train, batch_size=batch_size, epochs=nb_epoch, verbose=1, validation_data=(x_test, y_test))\n",
        "# Evaluate the model\n",
        "test_loss, test_acc = model.evaluate(x_test, y_test, verbose=2)\n",
        "print(f\"Test accuracy: {test_acc} and Loss: {test_loss}\")"
      ],
      "metadata": {
        "colab": {
          "base_uri": "https://localhost:8080/"
        },
        "id": "NvudfxfPLnki",
        "outputId": "81ad0cb0-098d-4b2d-b873-12be9d950c6a"
      },
      "execution_count": 48,
      "outputs": [
        {
          "output_type": "stream",
          "name": "stdout",
          "text": [
            "Model: \"sequential_7\"\n",
            "_________________________________________________________________\n",
            " Layer (type)                Output Shape              Param #   \n",
            "=================================================================\n",
            " dropout_3 (Dropout)         (None, 784)               0         \n",
            "                                                                 \n",
            " flatten_7 (Flatten)         (None, 784)               0         \n",
            "                                                                 \n",
            " batch_normalization_3 (Bat  (None, 784)               3136      \n",
            " chNormalization)                                                \n",
            "                                                                 \n",
            " dense_12 (Dense)            (None, 10)                7850      \n",
            "                                                                 \n",
            "=================================================================\n",
            "Total params: 10986 (42.91 KB)\n",
            "Trainable params: 9418 (36.79 KB)\n",
            "Non-trainable params: 1568 (6.12 KB)\n",
            "_________________________________________________________________\n",
            "Epoch 1/10\n",
            "469/469 [==============================] - 4s 7ms/step - loss: 0.4159 - accuracy: 0.8766 - val_loss: 0.3091 - val_accuracy: 0.9184\n",
            "Epoch 2/10\n",
            "469/469 [==============================] - 4s 8ms/step - loss: 0.4110 - accuracy: 0.8786 - val_loss: 0.3110 - val_accuracy: 0.9183\n",
            "Epoch 3/10\n",
            "469/469 [==============================] - 3s 6ms/step - loss: 0.4105 - accuracy: 0.8789 - val_loss: 0.3097 - val_accuracy: 0.9173\n",
            "Epoch 4/10\n",
            "469/469 [==============================] - 3s 6ms/step - loss: 0.4146 - accuracy: 0.8757 - val_loss: 0.3121 - val_accuracy: 0.9183\n",
            "Epoch 5/10\n",
            "469/469 [==============================] - 3s 7ms/step - loss: 0.4094 - accuracy: 0.8791 - val_loss: 0.3110 - val_accuracy: 0.9170\n",
            "Epoch 6/10\n",
            "469/469 [==============================] - 4s 8ms/step - loss: 0.4137 - accuracy: 0.8774 - val_loss: 0.3085 - val_accuracy: 0.9190\n",
            "Epoch 7/10\n",
            "469/469 [==============================] - 2s 5ms/step - loss: 0.4152 - accuracy: 0.8763 - val_loss: 0.3130 - val_accuracy: 0.9168\n",
            "Epoch 8/10\n",
            "469/469 [==============================] - 3s 6ms/step - loss: 0.4105 - accuracy: 0.8779 - val_loss: 0.3148 - val_accuracy: 0.9167\n",
            "Epoch 9/10\n",
            "469/469 [==============================] - 2s 5ms/step - loss: 0.4111 - accuracy: 0.8771 - val_loss: 0.3142 - val_accuracy: 0.9195\n",
            "Epoch 10/10\n",
            "469/469 [==============================] - 3s 7ms/step - loss: 0.4093 - accuracy: 0.8786 - val_loss: 0.3163 - val_accuracy: 0.9178\n",
            "313/313 - 1s - loss: 0.3163 - accuracy: 0.9178 - 674ms/epoch - 2ms/step\n",
            "Test accuracy: 0.9178000092506409 and Loss: 0.31629201769828796\n"
          ]
        }
      ]
    },
    {
      "cell_type": "markdown",
      "source": [
        "## Repeating 7th and 8th step of MLP model with Batch Normalization"
      ],
      "metadata": {
        "id": "fLNN1QMONCYt"
      }
    },
    {
      "cell_type": "code",
      "source": [
        "# Build the model with a linear stack of layers using the sequential model\n",
        "model = Sequential()\n",
        "\n",
        "model.add(Flatten(input_shape=(input_dim,)))\n",
        "model.add(Dense(100, activation='relu'))\n",
        "model.add(BatchNormalization())\n",
        "\n",
        "model.add(Dense(output_dim, activation='softmax'))\n"
      ],
      "metadata": {
        "id": "bNreLa_fM469"
      },
      "execution_count": 36,
      "outputs": []
    },
    {
      "cell_type": "code",
      "source": [
        "model.summary()\n",
        "model.compile(optimizer='adam',\n",
        "              loss='categorical_crossentropy',\n",
        "              metrics=['accuracy'])\n",
        "model.fit(x_train, y_train, batch_size=batch_size, epochs=nb_epoch, verbose=1, validation_data=(x_test, y_test))\n",
        "# Evaluate the model\n",
        "test_loss, test_acc = model.evaluate(x_test, y_test, verbose=2)\n",
        "print(f\"Test accuracy: {test_acc} and Loss: {test_loss}\")"
      ],
      "metadata": {
        "colab": {
          "base_uri": "https://localhost:8080/"
        },
        "id": "Ns3ywNV_M4oN",
        "outputId": "7f7ec478-24ae-495e-c694-8afc50eceab7"
      },
      "execution_count": null,
      "outputs": [
        {
          "output_type": "stream",
          "name": "stdout",
          "text": [
            "Model: \"sequential_26\"\n",
            "_________________________________________________________________\n",
            " Layer (type)                Output Shape              Param #   \n",
            "=================================================================\n",
            " flatten_24 (Flatten)        (None, 784)               0         \n",
            "                                                                 \n",
            " dense_42 (Dense)            (None, 100)               78500     \n",
            "                                                                 \n",
            " batch_normalization_8 (Bat  (None, 100)               400       \n",
            " chNormalization)                                                \n",
            "                                                                 \n",
            " dense_43 (Dense)            (None, 10)                1010      \n",
            "                                                                 \n",
            "=================================================================\n",
            "Total params: 79910 (312.15 KB)\n",
            "Trainable params: 79710 (311.37 KB)\n",
            "Non-trainable params: 200 (800.00 Byte)\n",
            "_________________________________________________________________\n",
            "Epoch 1/20\n",
            "469/469 [==============================] - 3s 5ms/step - loss: 0.2824 - accuracy: 0.9182 - val_loss: 0.1619 - val_accuracy: 0.9540\n",
            "Epoch 2/20\n",
            "469/469 [==============================] - 3s 6ms/step - loss: 0.1239 - accuracy: 0.9651 - val_loss: 0.1160 - val_accuracy: 0.9647\n",
            "Epoch 3/20\n",
            "469/469 [==============================] - 2s 4ms/step - loss: 0.0845 - accuracy: 0.9754 - val_loss: 0.0985 - val_accuracy: 0.9707\n",
            "Epoch 4/20\n",
            "469/469 [==============================] - 2s 4ms/step - loss: 0.0653 - accuracy: 0.9812 - val_loss: 0.0871 - val_accuracy: 0.9741\n",
            "Epoch 5/20\n",
            "469/469 [==============================] - 2s 4ms/step - loss: 0.0507 - accuracy: 0.9855 - val_loss: 0.0927 - val_accuracy: 0.9722\n",
            "Epoch 6/20\n",
            "469/469 [==============================] - 2s 4ms/step - loss: 0.0417 - accuracy: 0.9881 - val_loss: 0.0860 - val_accuracy: 0.9754\n",
            "Epoch 7/20\n",
            "469/469 [==============================] - 2s 5ms/step - loss: 0.0350 - accuracy: 0.9898 - val_loss: 0.0954 - val_accuracy: 0.9721\n",
            "Epoch 8/20\n",
            "469/469 [==============================] - 3s 6ms/step - loss: 0.0310 - accuracy: 0.9907 - val_loss: 0.0936 - val_accuracy: 0.9737\n",
            "Epoch 9/20\n",
            "469/469 [==============================] - 2s 4ms/step - loss: 0.0264 - accuracy: 0.9922 - val_loss: 0.1010 - val_accuracy: 0.9731\n",
            "Epoch 10/20\n",
            "469/469 [==============================] - 2s 4ms/step - loss: 0.0214 - accuracy: 0.9936 - val_loss: 0.0914 - val_accuracy: 0.9740\n",
            "Epoch 11/20\n",
            "469/469 [==============================] - 2s 4ms/step - loss: 0.0183 - accuracy: 0.9951 - val_loss: 0.1007 - val_accuracy: 0.9740\n",
            "Epoch 12/20\n",
            "469/469 [==============================] - 2s 4ms/step - loss: 0.0158 - accuracy: 0.9958 - val_loss: 0.0927 - val_accuracy: 0.9767\n",
            "Epoch 13/20\n",
            "469/469 [==============================] - 4s 9ms/step - loss: 0.0149 - accuracy: 0.9956 - val_loss: 0.0968 - val_accuracy: 0.9743\n",
            "Epoch 14/20\n",
            "469/469 [==============================] - 4s 8ms/step - loss: 0.0161 - accuracy: 0.9951 - val_loss: 0.1023 - val_accuracy: 0.9728\n",
            "Epoch 15/20\n",
            "469/469 [==============================] - 3s 7ms/step - loss: 0.0119 - accuracy: 0.9966 - val_loss: 0.0950 - val_accuracy: 0.9768\n",
            "Epoch 16/20\n",
            "469/469 [==============================] - 2s 4ms/step - loss: 0.0108 - accuracy: 0.9969 - val_loss: 0.1027 - val_accuracy: 0.9738\n",
            "Epoch 17/20\n",
            "469/469 [==============================] - 2s 5ms/step - loss: 0.0098 - accuracy: 0.9972 - val_loss: 0.1001 - val_accuracy: 0.9749\n",
            "Epoch 18/20\n",
            "469/469 [==============================] - 3s 6ms/step - loss: 0.0100 - accuracy: 0.9973 - val_loss: 0.1031 - val_accuracy: 0.9754\n",
            "Epoch 19/20\n",
            "469/469 [==============================] - 2s 4ms/step - loss: 0.0100 - accuracy: 0.9971 - val_loss: 0.1028 - val_accuracy: 0.9752\n",
            "Epoch 20/20\n",
            "469/469 [==============================] - 2s 4ms/step - loss: 0.0102 - accuracy: 0.9971 - val_loss: 0.1254 - val_accuracy: 0.9720\n",
            "313/313 - 0s - loss: 0.1254 - accuracy: 0.9720 - 473ms/epoch - 2ms/step\n",
            "Test accuracy: 0.972000002861023 and Loss: 0.1253846287727356\n"
          ]
        }
      ]
    },
    {
      "cell_type": "markdown",
      "source": [
        "## Repeating 7th and 8th step of MLP model with Batch Normalization and Dropout\n"
      ],
      "metadata": {
        "id": "FyS8CHUOMwk3"
      }
    },
    {
      "cell_type": "code",
      "source": [
        "# Build the model with a linear stack of layers using the sequential model\n",
        "model = Sequential()\n",
        "model.add(Dropout(0.5, input_shape=(input_dim,)))\n",
        "\n",
        "model.add(Flatten())\n",
        "model.add(BatchNormalization())\n",
        "\n",
        "model.add(Dense(output_dim, activation='softmax'))\n"
      ],
      "metadata": {
        "id": "HblPt9qjLqWI"
      },
      "execution_count": 46,
      "outputs": []
    },
    {
      "cell_type": "code",
      "source": [
        "model.summary()\n",
        "model.compile(optimizer='adam',\n",
        "              loss='categorical_crossentropy',\n",
        "              metrics=['accuracy'])\n",
        "model.fit(x_train, y_train, batch_size=batch_size, epochs=nb_epoch, verbose=1, validation_data=(x_test, y_test))\n",
        "# Evaluate the model\n",
        "test_loss, test_acc = model.evaluate(x_test, y_test, verbose=2)\n",
        "print(f\"Test accuracy: {test_acc} and Loss: {test_loss}\")\n"
      ],
      "metadata": {
        "colab": {
          "base_uri": "https://localhost:8080/"
        },
        "id": "CTwnuLjjSNuA",
        "outputId": "6d1a6d63-e0ee-4a6a-b444-2d18a099b75d"
      },
      "execution_count": 47,
      "outputs": [
        {
          "output_type": "stream",
          "name": "stdout",
          "text": [
            "Model: \"sequential_7\"\n",
            "_________________________________________________________________\n",
            " Layer (type)                Output Shape              Param #   \n",
            "=================================================================\n",
            " dropout_3 (Dropout)         (None, 784)               0         \n",
            "                                                                 \n",
            " flatten_7 (Flatten)         (None, 784)               0         \n",
            "                                                                 \n",
            " batch_normalization_3 (Bat  (None, 784)               3136      \n",
            " chNormalization)                                                \n",
            "                                                                 \n",
            " dense_12 (Dense)            (None, 10)                7850      \n",
            "                                                                 \n",
            "=================================================================\n",
            "Total params: 10986 (42.91 KB)\n",
            "Trainable params: 9418 (36.79 KB)\n",
            "Non-trainable params: 1568 (6.12 KB)\n",
            "_________________________________________________________________\n",
            "Epoch 1/10\n",
            "469/469 [==============================] - 4s 7ms/step - loss: 0.7041 - accuracy: 0.7816 - val_loss: 0.3403 - val_accuracy: 0.9083\n",
            "Epoch 2/10\n",
            "469/469 [==============================] - 3s 7ms/step - loss: 0.4512 - accuracy: 0.8655 - val_loss: 0.3140 - val_accuracy: 0.9120\n",
            "Epoch 3/10\n",
            "469/469 [==============================] - 4s 8ms/step - loss: 0.4281 - accuracy: 0.8719 - val_loss: 0.3085 - val_accuracy: 0.9151\n",
            "Epoch 4/10\n",
            "469/469 [==============================] - 4s 7ms/step - loss: 0.4196 - accuracy: 0.8762 - val_loss: 0.3055 - val_accuracy: 0.9162\n",
            "Epoch 5/10\n",
            "469/469 [==============================] - 3s 6ms/step - loss: 0.4218 - accuracy: 0.8740 - val_loss: 0.3057 - val_accuracy: 0.9186\n",
            "Epoch 6/10\n",
            "469/469 [==============================] - 3s 7ms/step - loss: 0.4144 - accuracy: 0.8761 - val_loss: 0.3096 - val_accuracy: 0.9170\n",
            "Epoch 7/10\n",
            "469/469 [==============================] - 4s 8ms/step - loss: 0.4173 - accuracy: 0.8766 - val_loss: 0.3100 - val_accuracy: 0.9178\n",
            "Epoch 8/10\n",
            "469/469 [==============================] - 3s 6ms/step - loss: 0.4168 - accuracy: 0.8767 - val_loss: 0.3077 - val_accuracy: 0.9177\n",
            "Epoch 9/10\n",
            "469/469 [==============================] - 3s 6ms/step - loss: 0.4142 - accuracy: 0.8760 - val_loss: 0.3084 - val_accuracy: 0.9177\n",
            "Epoch 10/10\n",
            "469/469 [==============================] - 3s 6ms/step - loss: 0.4107 - accuracy: 0.8764 - val_loss: 0.3107 - val_accuracy: 0.9172\n",
            "313/313 - 0s - loss: 0.3107 - accuracy: 0.9172 - 423ms/epoch - 1ms/step\n",
            "Test accuracy: 0.9172000288963318 and Loss: 0.31065455079078674\n"
          ]
        }
      ]
    },
    {
      "cell_type": "code",
      "source": [],
      "metadata": {
        "id": "rjGxJtN0S2NT"
      },
      "execution_count": null,
      "outputs": []
    }
  ]
}